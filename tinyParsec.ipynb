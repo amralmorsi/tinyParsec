{
 "cells": [
  {
   "cell_type": "markdown",
   "metadata": {},
   "source": [
    "## **Building a Minimal Parsing Library Using Parser Combinators in Haskell**"
   ]
  },
  {
   "cell_type": "markdown",
   "metadata": {},
   "source": [
    "A *parser* is just a translation function: a functor/function that takes an input from one category (of some data structure) to another. It takes in loosely-structured data and translates it to another structured data, based on some grammar.\n",
    "\n",
    "Therefore, a parser should have the following general signature:\n",
    "```haskell \n",
    "data Parser'''' m a n b = Parser'''' m a -> n b\n",
    "```\n",
    "This one is, of course, *very* general. It takes an argument of type $m \\; a$ (where $m$ is a type constructor) and translates it to another one of type $n \\; b$ (where n is also another type constructor), where $m$ and $n$ are both functors/type constructors. However, since parsers work sequentially—that is, they parse part of the input stream, then output the translated value and the rest of the stream. Therefore, we need to know where the parser is or what is left to process. It also may not output something if the input streams doesn't follow the grammar to be processed!\n",
    "\n",
    "```haskell\n",
    "data Parser''' m a n b = Parser''' (m a -> Either ParserError (n b, m a)) \n",
    "--`n b` in the pair is the what is successfully \"parsed out\" or translated, m a is what is left of the stream to process.\n",
    "```\n",
    "\n",
    "Now, let's say we want our parser to process only a stream of characters—that is, a String/list of Char. In that case, the type signature of our parser should be as follows:\n",
    "```haskell\n",
    "data Parser'' n b = Parser'' ([Char] -> Either ParserError (n b, [Char]))\n",
    "```\n",
    "which can be shortened to:\n",
    "\n",
    "```haskell\n",
    "data Parser' output = Parser' ([Char] -> Either ParserError (output, [Char]))\n",
    "-- `output` is the type of what the parser \"parses out\".\n",
    "```\n",
    "\n",
    "A nicer way to declare it's type is using the record syntax in Haskell:\n",
    "<!-- ```haskell\n",
    "data Parser output = Parser' ([Char] -> Either PraserError (output, [Char]))``` -->\n"
   ]
  },
  {
   "cell_type": "code",
   "execution_count": null,
   "metadata": {},
   "outputs": [],
   "source": [
    "import           Control.Applicative (liftA2)\n",
    "import           Data.Char\n",
    "import           Data.Foldable       (for_)\n",
    "import           Data.Functor\n",
    "import qualified Data.HashMap.Strict as M\n",
    "import           Data.List           (intercalate)\n",
    "import           Prelude             hiding (any)\n",
    "import           System.Environment\n",
    "import           Text.Printf\n",
    "-- Definition of the parser output when it can't parse the input stream.\n",
    "data ParserError = ParserError {getExpected :: String, getFound :: String} deriving Show\n",
    "\n",
    "newtype Parser output = Parser {runParser :: [Char] -> Either (ParserError, [Char]) (output, [Char])}"
   ]
  },
  {
   "cell_type": "markdown",
   "metadata": {},
   "source": [
    "Now, let's say we want to create a parser that parses for the End of File character. It can be done as follows:"
   ]
  },
  {
   "cell_type": "code",
   "execution_count": null,
   "metadata": {},
   "outputs": [],
   "source": [
    "eofParser :: Parser [Char] -- Used [Char] here instea\n",
    "eofParser = Parser (\\input -> case input of\n",
    "                    []       -> Right (\"\", [])\n",
    "                    (char:_) -> Left (ParserError \"Expected: EoF\" (\"Found: \" ++ [char]), input) \n",
    "    )\n",
    "\n",
    "(runParser eofParser \"\")"
   ]
  },
  {
   "cell_type": "markdown",
   "metadata": {},
   "source": [
    "We are also going to define another parser that parses for any character (this will come in handy later):"
   ]
  },
  {
   "cell_type": "code",
   "execution_count": null,
   "metadata": {},
   "outputs": [],
   "source": [
    "any :: Parser Char\n",
    "any = Parser $ \\input ->\n",
    "                case input of\n",
    "                (char:chars) -> Right (char, chars)\n",
    "                _ -> Left (ParserError \"Expected: Char\" \"Found: EoF\", input) \n",
    "\n",
    "-- generalAny :: Parser a\n",
    "-- generalAny = Parser $ \\input -> \n",
    "--                        case input of\n",
    "--                             (x:xs) -> Right (x, xs)\n",
    "--                             _ -> Left $ ParserError \"Expected: Char\" \"Found: EOF\""
   ]
  },
  {
   "cell_type": "markdown",
   "metadata": {},
   "source": [
    "$\\text{errorParser}$ is a function produces a special parser that always parsers out a $ParserError$ regardless of the input. This will prove useful later one when we \"choose\" between different parsers and no one of them parser the input successfully."
   ]
  },
  {
   "cell_type": "code",
   "execution_count": null,
   "metadata": {},
   "outputs": [],
   "source": [
    "errorParser :: String -> String -> Parser a\n",
    "errorParser expected found = Parser $ \\input -> Left (ParserError expected found, input)"
   ]
  },
  {
   "cell_type": "markdown",
   "metadata": {},
   "source": [
    "#### **How About Sequencing Parsers?**"
   ]
  },
  {
   "cell_type": "markdown",
   "metadata": {},
   "source": [
    "So, now, what does sequencing parsers actually mean? Well, it simply means running a parser on the rest of the input stream out of another parser *after* it parses successfully. And since a parser of type `Parser a` spits out values of type `Either ParserError (parserOutput :: a, restOfInput :: String)`, we are only interested in passing `restOfInput` to the other parser `Parser b`, which may parses out values of potentially different type `b`, only *when* the value of the output is `Right (parserOutput :: a, restOfInput::String)`. So, in fewer words, what we want to do is run `Parser a` on `input :: String`, check whether its output is a `Right (parserOutput :: a, restOfInput :: String)` value. Ff true, we run `Parser B` on `restOfInput`. If false, we may throw an error. \n",
    "Here is a psuedo type-signature for the what we are trying to implement here to make things clearer:\n",
    "```haskell\n",
    "parseThenDo :: Parser a -> (a -> Parser b) -> Parser b \n",
    "-- while `a` is not exactly the type of the output of teh function wrapped in `Parser a', both `Parser a` and `Parser b` operate on and produces the same `input, restOfInput :: String` values. ^[I need a better explanation here to what is actually going on.] \n",
    "```\n",
    "Let's try to interpret this type signature: `parseThenDo` takes a `parserA :: Parser a` and another function that takes in some input and produces another `parserB` of potentially different type `Parser b`. And now compare this type signature with the that of the bind function `(>>=)` of monads in Haskell:\n",
    "```haskell\n",
    "(>>=) :: m a -> (a -> m b) -> m b \n",
    "``` \n",
    "This is specifically why monads are so darn useful: `>>=` takes a value of type `m a` and another functions that does some computation on the values of type `a` inside the monad container `m a` to produce another monad containers of potentially different type `m b`.\n",
    "\n",
    "That way, by implementing the Monad typeclass on`Parser`, we can overload the bind function `>>=` to do the parser sequencing for us by taking in a `parserA` and a function `f` that handles the logic of piping the output of `parserA` to another `parserB :: Parser c` to produce another `parserC :: Parser b`. As follows: \n"
   ]
  },
  {
   "cell_type": "code",
   "execution_count": null,
   "metadata": {},
   "outputs": [],
   "source": [
    "instance Functor Parser where\n",
    "    fmap f parserA = Parser (\\input ->\n",
    "                             case runParser parserA input of\n",
    "                             Right (output, restOfInput) -> Right (f output, restOfInput)\n",
    "                             Left a -> Left a\n",
    "                             )\n",
    "\n",
    "instance Applicative Parser where\n",
    "    pure x = Parser (\\input -> Right (x, input))\n",
    "    parserF <*> parserA = Parser (\\input -> \n",
    "                                   case runParser parserF input of\n",
    "                                   Right (f, restOfInput) -> runParser (fmap f parserA) restOfInput\n",
    "                                   Left a                 -> Left a\n",
    "                                 )\n",
    "\n",
    "instance Monad Parser where\n",
    "  return x = Parser $ \\input -> Right (x, input)\n",
    "  parserA >>= f = Parser $ \\input -> case runParser parserA input of\n",
    "                                       Right (output, restOfInput) -> runParser (f output) restOfInput\n",
    "                                       Left a -> Left a"
   ]
  },
  {
   "cell_type": "markdown",
   "metadata": {},
   "source": [
    "*$\\text{generalSatisfy} :: Eq \\; => \\; a \\to ( a \\to Bool) \\to Parser\\;a $* is a combinator that wraps $\\:\\text{any}\\, :: \\, Parser\\; a$ (where $a$ usually has the type $Char$) value of type $a$ another a predicate/function of type $Char \\to Bool$ (which checks if the parsed out value (usually of type $Char$) is equal to that argument) returns a parser that parses only for that value/character. This is the first ***Parser Combinator***!"
   ]
  },
  {
   "cell_type": "code",
   "execution_count": null,
   "metadata": {},
   "outputs": [],
   "source": [
    "-- Comment:\n",
    "-- This didn't work because I need  a general Parser first\n",
    "-- generalSatisfy :: Eq a => a -> (a -> Bool) -> Parser a\n",
    "-- satisfy value predicate = Parser \\input ->\n",
    "--                                   case runParser generalAny input of\n",
    "--                                        Right (x:xs) -> if x == value then Right (x:xs) \n",
    "--                                                        else Left $ ParserError (\"Expected: \" ++ value) (\"Found: \" ++ x) \n",
    "--                                        _ -> _\n",
    "                                       "
   ]
  },
  {
   "cell_type": "markdown",
   "metadata": {},
   "source": [
    "Now, we can makr another parser combinator that checks for a specific value of type $Char$."
   ]
  },
  {
   "cell_type": "code",
   "execution_count": null,
   "metadata": {},
   "outputs": [],
   "source": [
    "satisfyParser :: (Char -> Bool) -> Parser Char\n",
    "satisfyParser predicate = Parser $ \\input ->\n",
    "                                  case runParser any input of\n",
    "                                       Right (char, restOfInput) -> if predicate char then Right (char, restOfInput) \n",
    "                                                       else Left $ (ParserError \"Expected: Char of certain property.\" (\"Found: \" ++[char]), input) \n",
    "                                       Left a -> Left a\n",
    "-- runParser $ satisfy (== 'a') \"abs\""
   ]
  },
  {
   "cell_type": "code",
   "execution_count": null,
   "metadata": {},
   "outputs": [],
   "source": [
    "try :: Parser a -> Parser a\n",
    "try parserA= Parser $ \\input -> \n",
    "                       case runParser parserA input of\n",
    "                            Right a -> Right a\n",
    "                            Left (error, output) -> Left (error, input)"
   ]
  },
  {
   "cell_type": "markdown",
   "metadata": {},
   "source": [
    "The $(<|>)$ operator combines two parsers and produces another parser. This new parser tries the first parser, and if it fails (without consuming any input), then it runs the other parser."
   ]
  },
  {
   "cell_type": "code",
   "execution_count": null,
   "metadata": {},
   "outputs": [],
   "source": [
    "-- (<|>) :: Parser a -> Parser b -> Parser (Either a b)\n",
    "(<|>) :: Parser a -> Parser a -> Parser a\n",
    "parser1 <|> parser2 = Parser $ \\input ->\n",
    "                                case runParser parser1 input of\n",
    "                                     Right a -> Right a\n",
    "                                     Left (error, input) ->  runParser parser2 input "
   ]
  },
  {
   "cell_type": "markdown",
   "metadata": {},
   "source": [
    "Given a list of parsers, $\\text{chooseParser}$ tries them in order, and outputs the first parser that parses successfully."
   ]
  },
  {
   "cell_type": "code",
   "execution_count": null,
   "metadata": {},
   "outputs": [],
   "source": [
    "chooseParser :: [Parser a] -> Parser a \n",
    "chooseParser [parser] = parser\n",
    "chooseParser (firstParser:rest) = firstParser <|> chooseParser rest"
   ]
  },
  {
   "cell_type": "markdown",
   "metadata": {},
   "source": [
    "$\\text{choice}$ produces a parser that choose between a list of parsers (where all parsers are tried in the same order in the list), and if they all fail, it produces a $ParserError$ with the expected field in it is the $description$ parameter. The namesake of the function is the same as the one in $\\text{Parsec}$"
   ]
  },
  {
   "cell_type": "code",
   "execution_count": null,
   "metadata": {},
   "outputs": [],
   "source": [
    "choice :: String -> [Parser a] -> Parser a\n",
    "choice description parsers = foldr (<|>) (errorParser description \"No match\") parsers\n",
    "\n",
    "choice' :: String -> [Parser a] -> Parser a\n",
    "choice' description parsers = chooseParser $ parsers ++ [errorParser description \"No match.\"]\n"
   ]
  },
  {
   "cell_type": "markdown",
   "metadata": {},
   "source": [
    "$\\text{many}$ is another parser combinator that parses zero or more occurence of a given value."
   ]
  },
  {
   "cell_type": "code",
   "execution_count": null,
   "metadata": {},
   "outputs": [],
   "source": [
    "many, many1 :: Parser a -> Parser [a]\n",
    "many  p = many1 p <|> return []\n",
    "many1 p = do\n",
    "  first <- p\n",
    "  rest  <- many p\n",
    "  return (first:rest)"
   ]
  },
  {
   "cell_type": "code",
   "execution_count": null,
   "metadata": {},
   "outputs": [],
   "source": [
    "sepBy, sepBy1 :: Parser a -> Parser s -> Parser [a]\n",
    "sepBy  p s = sepBy1 p s <|> pure []\n",
    "sepBy1 p s = liftA2 (:) p $ many (s >> p)"
   ]
  },
  {
   "cell_type": "markdown",
   "metadata": {},
   "source": [
    "### **Using the Library: Implementing a Minimal JSON Parser**"
   ]
  },
  {
   "cell_type": "markdown",
   "metadata": {},
   "source": [
    "##### **The Extended Backus-Naur Form for JSON**"
   ]
  },
  {
   "cell_type": "markdown",
   "metadata": {},
   "source": [
    "VAlUE ::= STRINGLIT | NUMBER | BOOL | OBJECT | ARRAY </br> </br>\n",
    "OBJECT ::= \"{\" [PAIR {[\",\" PAIR]}] \"} </br> </br>\n",
    "PAIR ::= STRINGLIT \":\" VALUE </br> </br>\n",
    "ARRAY ::= \"[\" [VALUE [{\",\" VALUE}]] \"]\" </br> </br>"
   ]
  },
  {
   "cell_type": "code",
   "execution_count": null,
   "metadata": {},
   "outputs": [],
   "source": [
    "import Data.Map.Strict as Map\n",
    "data JValue = JString String \n",
    "            | JDouble Double \n",
    "            | JObject (Map String JValue)\n",
    "            | JArray [JValue]\n",
    "            | JBool Bool\n",
    "            | Null\n",
    "            deriving Show"
   ]
  },
  {
   "cell_type": "code",
   "execution_count": null,
   "metadata": {},
   "outputs": [],
   "source": [
    "import Data.Char\n",
    "charParser c = satisfyParser (==c)\n",
    "spaceParser = satisfyParser isSpace\n",
    "digitParser = satisfyParser isDigit\n",
    "symbolParser symbol = charParser symbol <* spaceParser\n",
    "\n",
    "stringParser = traverse charParser\n",
    "\n",
    "betweenParser openParser closeParser valueParser = openParser *> valueParser <* closeParser\n",
    "betweenBracketsParser = betweenParser (symbolParser '[') (symbolParser ']')\n",
    "betweenBracesParser = betweenParser (symbolParser '{') (symbolParser '}')\n"
   ]
  },
  {
   "cell_type": "code",
   "execution_count": null,
   "metadata": {},
   "outputs": [],
   "source": [
    "jsonNumberParser = read <$> many1 digitParser"
   ]
  },
  {
   "cell_type": "code",
   "execution_count": null,
   "metadata": {},
   "outputs": [],
   "source": [
    "jsonBoolParser = choice (\"Couldn't parse Boolean value.\") [True <$ stringParser \"true\", False <$ stringParser \"false\"]"
   ]
  },
  {
   "cell_type": "code",
   "execution_count": null,
   "metadata": {},
   "outputs": [],
   "source": [
    "jsonStringParser = choice \"Couldn't parse String value.\" [betweenParser (symbolParser '\\\"') (symbolParser '\\\"') $ many jsonCharParser]\n",
    "                                                          where \n",
    "                                                            jsonCharParser = choice \"Couldn't parse a Character value.\"\n",
    "                                                                  [ try $ '\\n' <$ stringParser \"\\\\n\"\n",
    "                                                                  , try $ '\\t' <$ stringParser \"\\\\t\"\n",
    "                                                                  , try $ '\"'  <$ stringParser \"\\\\\\\"\"\n",
    "                                                                  , try $ '\\\\' <$ stringParser \"\\\\\\\\\"\n",
    "                                                                  , satisfyParser (/= '\"')\n",
    "                                                                  ]\n",
    "-- jsonStringParser = choice \"Couldn't parse String value.\" [betweenParser (symbolParser '\"') (symbolParser '\"') many jsonCharParser,\n",
    "--                                                           betweenParser (symbolParser '\\'') (symbolParser '\\'') many jsonCharParser]\n",
    "--                                                           where \n",
    "--                                                             jsonCharParser = choice \"Couldn't parse a Character value.\"\n",
    "--                                                                   [ try $ '\\n' <$ stringParser \"\\\\n\"\n",
    "--                                                                   , try $ '\\t' <$ stringParser \"\\\\t\"\n",
    "--                                                                   , try $ '\"'  <$ stringParser \"\\\\\\\"\"\n",
    "--                                                                   , try $ '\\\\' <$ stringParser \"\\\\\\\\\"\n",
    "--                                                                   , satisfyParser (/= '\"') \"not a quote\"\n",
    "--                                                                   ]"
   ]
  },
  {
   "cell_type": "code",
   "execution_count": null,
   "metadata": {},
   "outputs": [],
   "source": [
    "jsonObjectParser = do\n",
    "  assocList <- betweenBracesParser $ jsonEntryParser `sepBy` symbolParser ','\n",
    "  return $ fromList assocList\n",
    "  where\n",
    "    jsonEntryParser = do\n",
    "      k <- jsonStringParser\n",
    "      symbolParser ':'\n",
    "      v <- jsonValueParser\n",
    "      return (k,v)\n",
    "\n",
    "  \n",
    "jsonArrayParser = betweenBracketsParser $ jsonValueParser `sepBy` symbolParser ','\n",
    "\n",
    "jsonValueParser = choice \"Couldn't Parse JSON.\"  [JObject <$> jsonObjectParser, JArray  <$> jsonArrayParser, JString <$> jsonStringParser, JDouble <$> jsonNumberParser, JBool <$> jsonBoolParser , Null <$  stringParser \"null\"]"
   ]
  },
  {
   "cell_type": "code",
   "execution_count": null,
   "metadata": {},
   "outputs": [],
   "source": [
    "runParser jsonObjectParser \"{ \\\"string\\\": \\\"b\\\", \\\"string-with-escaped-stuff\\\": \\\"\\\"\\n\\t\\\", \\\"number\\\": 4234746,\\\"array\\\": [\\\"foo\\\", 42, {\\\"foo\\\": 42}, [\\\"foo\\\", 42]],\\\"bool\\\": true,\\\"other-bool\\\": false, \\\"null\\\": null }\""
   ]
  },
  {
   "cell_type": "code",
   "execution_count": null,
   "metadata": {},
   "outputs": [],
   "source": [
    "main :: IO ()\n",
    "main = do\n",
    "  content <- readFile \"test.json\"\n",
    "  putStrLn content\n",
    "  print $ runParser jsonObjectParser content\n",
    "\n",
    "main"
   ]
  }
 ],
 "metadata": {
  "kernelspec": {
   "display_name": "Haskell",
   "language": "haskell",
   "name": "haskell"
  },
  "language_info": {
   "codemirror_mode": "ihaskell",
   "file_extension": ".hs",
   "mimetype": "text/x-haskell",
   "name": "haskell",
   "pygments_lexer": "Haskell",
   "version": "9.0.2"
  }
 },
 "nbformat": 4,
 "nbformat_minor": 2
}
